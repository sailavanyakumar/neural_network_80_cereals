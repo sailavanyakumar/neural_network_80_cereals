{
 "cells": [
  {
   "cell_type": "code",
   "execution_count": 63,
   "metadata": {},
   "outputs": [
    {
     "name": "stderr",
     "output_type": "stream",
     "text": [
      "C:\\Users\\HP\\Anaconda3\\lib\\site-packages\\sklearn\\preprocessing\\_encoders.py:371: FutureWarning: The handling of integer data will change in version 0.22. Currently, the categories are determined based on the range [0, max(values)], while in the future they will be determined based on the unique values.\n",
      "If you want the future behaviour and silence this warning, you can specify \"categories='auto'\".\n",
      "In case you used a LabelEncoder before this OneHotEncoder to convert the categories to integers, then you can now use the OneHotEncoder directly.\n",
      "  warnings.warn(msg, FutureWarning)\n",
      "C:\\Users\\HP\\Anaconda3\\lib\\site-packages\\sklearn\\preprocessing\\_encoders.py:371: FutureWarning: The handling of integer data will change in version 0.22. Currently, the categories are determined based on the range [0, max(values)], while in the future they will be determined based on the unique values.\n",
      "If you want the future behaviour and silence this warning, you can specify \"categories='auto'\".\n",
      "In case you used a LabelEncoder before this OneHotEncoder to convert the categories to integers, then you can now use the OneHotEncoder directly.\n",
      "  warnings.warn(msg, FutureWarning)\n",
      "C:\\Users\\HP\\Anaconda3\\lib\\site-packages\\sklearn\\preprocessing\\_encoders.py:371: FutureWarning: The handling of integer data will change in version 0.22. Currently, the categories are determined based on the range [0, max(values)], while in the future they will be determined based on the unique values.\n",
      "If you want the future behaviour and silence this warning, you can specify \"categories='auto'\".\n",
      "In case you used a LabelEncoder before this OneHotEncoder to convert the categories to integers, then you can now use the OneHotEncoder directly.\n",
      "  warnings.warn(msg, FutureWarning)\n",
      "C:\\Users\\HP\\Anaconda3\\lib\\site-packages\\sklearn\\preprocessing\\data.py:645: DataConversionWarning: Data with input dtype int64, float64 were all converted to float64 by StandardScaler.\n",
      "  return self.partial_fit(X, y)\n",
      "C:\\Users\\HP\\Anaconda3\\lib\\site-packages\\ipykernel_launcher.py:40: DataConversionWarning: Data with input dtype int64, float64 were all converted to float64 by StandardScaler.\n",
      "C:\\Users\\HP\\Anaconda3\\lib\\site-packages\\sklearn\\preprocessing\\data.py:645: DataConversionWarning: Data with input dtype int64, float64 were all converted to float64 by StandardScaler.\n",
      "  return self.partial_fit(X, y)\n",
      "C:\\Users\\HP\\Anaconda3\\lib\\site-packages\\ipykernel_launcher.py:42: DataConversionWarning: Data with input dtype int64, float64 were all converted to float64 by StandardScaler.\n",
      "C:\\Users\\HP\\Anaconda3\\lib\\site-packages\\sklearn\\preprocessing\\data.py:645: DataConversionWarning: Data with input dtype int64, float64 were all converted to float64 by StandardScaler.\n",
      "  return self.partial_fit(X, y)\n",
      "C:\\Users\\HP\\Anaconda3\\lib\\site-packages\\ipykernel_launcher.py:44: DataConversionWarning: Data with input dtype int64, float64 were all converted to float64 by StandardScaler.\n"
     ]
    },
    {
     "name": "stdout",
     "output_type": "stream",
     "text": [
      "Train on 47 samples, validate on 6 samples\n",
      "Epoch 1/10\n",
      "47/47 [==============================] - 4s 75ms/step - loss: 39.4184 - mean_absolute_error: 39.4184 - val_loss: 47.0022 - val_mean_absolute_error: 47.0022\n",
      "Epoch 2/10\n",
      "47/47 [==============================] - 0s 887us/step - loss: 38.1762 - mean_absolute_error: 38.1762 - val_loss: 46.1209 - val_mean_absolute_error: 46.1209\n",
      "Epoch 3/10\n",
      "47/47 [==============================] - 0s 785us/step - loss: 36.6138 - mean_absolute_error: 36.6138 - val_loss: 44.9485 - val_mean_absolute_error: 44.9485\n",
      "Epoch 4/10\n",
      "47/47 [==============================] - 0s 677us/step - loss: 34.5261 - mean_absolute_error: 34.5261 - val_loss: 43.3714 - val_mean_absolute_error: 43.3714\n",
      "Epoch 5/10\n",
      "47/47 [==============================] - 0s 621us/step - loss: 31.6787 - mean_absolute_error: 31.6787 - val_loss: 41.2517 - val_mean_absolute_error: 41.2517\n",
      "Epoch 6/10\n",
      "47/47 [==============================] - 0s 722us/step - loss: 27.8027 - mean_absolute_error: 27.8027 - val_loss: 38.4611 - val_mean_absolute_error: 38.4611\n",
      "Epoch 7/10\n",
      "47/47 [==============================] - 0s 602us/step - loss: 22.6139 - mean_absolute_error: 22.6139 - val_loss: 34.8696 - val_mean_absolute_error: 34.8696\n",
      "Epoch 8/10\n",
      "47/47 [==============================] - 0s 637us/step - loss: 16.1924 - mean_absolute_error: 16.1924 - val_loss: 30.3051 - val_mean_absolute_error: 30.3051\n",
      "Epoch 9/10\n",
      "47/47 [==============================] - 0s 615us/step - loss: 10.1348 - mean_absolute_error: 10.1348 - val_loss: 24.7004 - val_mean_absolute_error: 24.7004\n",
      "Epoch 10/10\n",
      "47/47 [==============================] - 0s 639us/step - loss: 9.3942 - mean_absolute_error: 9.3942 - val_loss: 21.6974 - val_mean_absolute_error: 21.6974\n",
      "24/24 [==============================] - 0s 249us/step\n",
      "[12.968426704406738, 12.968426704406738]\n",
      "The base_line value  : 12.506521574468087\n"
     ]
    }
   ],
   "source": [
    "import pandas as pd\n",
    "import numpy as np\n",
    "df=pd.read_csv(\"cereal.csv\")\n",
    "#df.info()\n",
    "#df.isnull().sum()/len(df)\n",
    "#found no null values\n",
    "#df.info()\n",
    "#df[\"name\"]\n",
    "#df[\"name\"].unique()\n",
    "from sklearn.preprocessing import LabelEncoder\n",
    "from sklearn.preprocessing import OneHotEncoder\n",
    "target=[\"rating\"]\n",
    "cat_col=[\"name\",\"mfr\",\"type\"]\n",
    "num_col=[\"calories\",\"protein\",\"fat\",\"sodium\",\"fiber\",\"carbo\",\"sugars\",\"potass\",\"vitamins\",\"shelf\",\n",
    "        \"weight\",\"cups\"]\n",
    "#Applying onehotencoding for object type columns\n",
    "def create_ohe(df,col):\n",
    "    le=LabelEncoder()\n",
    "    a=le.fit_transform(df[col]).reshape(-1,1)\n",
    "    ohe=OneHotEncoder(sparse=False)\n",
    "    column_names=[col+\"_\"+str(i) for i in le.classes_]\n",
    "    return (pd.DataFrame(ohe.fit_transform(a),columns=column_names))\n",
    "temp=df[num_col]\n",
    "for column in cat_col:\n",
    "    temp_def=create_ohe(df,column)\n",
    "    temp=pd.concat([temp,temp_def],axis=1)\n",
    "    \n",
    "    \n",
    "#temp.info()\n",
    "from keras.models import Sequential\n",
    "from keras.layers import Dense\n",
    "from keras.callbacks import History\n",
    "from sklearn.model_selection import train_test_split\n",
    "from sklearn.preprocessing import StandardScaler\n",
    "scaler=StandardScaler()\n",
    "#standardizing input values\n",
    "x_train,x_test,y_train,y_test=train_test_split(temp,df[\"rating\"],random_state=2019,test_size=0.3)\n",
    "x_train,x_val,y_train,y_val=train_test_split(x_train,y_train,random_state=2019,test_size=0.1)\n",
    "scaler.fit(x_train)\n",
    "x_tr_s=scaler.transform(x_train)\n",
    "scaler.fit(x_test)\n",
    "x_te_s=scaler.transform(x_test)\n",
    "scaler.fit(x_val)\n",
    "x_v_s=scaler.transform(x_val)\n",
    "#print(len(x_tr_s))\n",
    "#print(len(x_te_s))\n",
    "#print(x_train.shape)\n",
    "history=History()\n",
    "model=Sequential()\n",
    "model.add(Dense(550,input_dim=98,activation=\"relu\"))\n",
    "model.add(Dense(550,activation=\"relu\"))\n",
    "model.add(Dense(550,activation=\"relu\"))\n",
    "model.add(Dense(1,activation=\"relu\"))\n",
    "model.compile(optimizer=\"adam\",loss=\"mean_absolute_error\",metrics=[\"mean_absolute_error\"])\n",
    "model.fit(x_tr_s,y_train,validation_data=(x_v_s,y_val),epochs=10,batch_size=64,callbacks=[history])\n",
    "mean=y_train.mean()\n",
    "a=abs(y_test-mean).mean()\n",
    "result=model.evaluate(x_te_s,y_test)\n",
    "print(result)\n",
    "print(\"The base_line value  :\",a)\n",
    "\n"
   ]
  },
  {
   "cell_type": "code",
   "execution_count": 78,
   "metadata": {},
   "outputs": [
    {
     "data": {
      "text/plain": [
       "<matplotlib.legend.Legend at 0x2305584edd8>"
      ]
     },
     "execution_count": 78,
     "metadata": {},
     "output_type": "execute_result"
    },
    {
     "data": {
      "image/png": "[encoded data removed]",
      "text/plain": [
       "<Figure size 432x288 with 1 Axes>"
      ]
     },
     "metadata": {
      "needs_background": "light"
     },
     "output_type": "display_data"
    }
   ],
   "source": [
    "%matplotlib inline\n",
    "import matplotlib.pyplot as plt\n",
    "from matplotlib import style\n",
    "#adding some styles to the graph\n",
    "plt.plot(history.history['loss'],'y--',label=\"Epochs\",linewidth=3)\n",
    "plt.plot(history.history['val_loss'],'r',label=\"loss\",linewidth=3)\n",
    "plt.legend()"
   ]
  },
  {
   "cell_type": "code",
   "execution_count": null,
   "metadata": {},
   "outputs": [],
   "source": []
  },
  {
   "cell_type": "code",
   "execution_count": null,
   "metadata": {},
   "outputs": [],
   "source": []
  }
 ],
 "metadata": {
  "kernelspec": {
   "display_name": "Python 3",
   "language": "python",
   "name": "python3"
  },
  "language_info": {
   "codemirror_mode": {
    "name": "ipython",
    "version": 3
   },
   "file_extension": ".py",
   "mimetype": "text/x-python",
   "name": "python",
   "nbconvert_exporter": "python",
   "pygments_lexer": "ipython3",
   "version": "3.7.3"
  }
 },
 "nbformat": 4,
 "nbformat_minor": 2
}
